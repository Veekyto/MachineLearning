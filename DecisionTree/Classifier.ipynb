{
 "cells": [
  {
   "cell_type": "code",
   "execution_count": 1,
   "metadata": {},
   "outputs": [],
   "source": [
    "from sklearn import tree\n",
    "from sklearn.datasets import load_wine\n",
    "from sklearn.model_selection import train_test_split"
   ]
  },
  {
   "cell_type": "code",
   "execution_count": 2,
   "metadata": {},
   "outputs": [
    {
     "data": {
      "text/plain": [
       "(178, 13)"
      ]
     },
     "execution_count": 2,
     "metadata": {},
     "output_type": "execute_result"
    }
   ],
   "source": [
    "wine=load_wine()\n",
    "wine.data.shape"
   ]
  },
  {
   "cell_type": "code",
   "execution_count": 3,
   "metadata": {},
   "outputs": [
    {
     "data": {
      "text/plain": [
       "array([0, 0, 0, 0, 0, 0, 0, 0, 0, 0, 0, 0, 0, 0, 0, 0, 0, 0, 0, 0, 0, 0,\n",
       "       0, 0, 0, 0, 0, 0, 0, 0, 0, 0, 0, 0, 0, 0, 0, 0, 0, 0, 0, 0, 0, 0,\n",
       "       0, 0, 0, 0, 0, 0, 0, 0, 0, 0, 0, 0, 0, 0, 0, 1, 1, 1, 1, 1, 1, 1,\n",
       "       1, 1, 1, 1, 1, 1, 1, 1, 1, 1, 1, 1, 1, 1, 1, 1, 1, 1, 1, 1, 1, 1,\n",
       "       1, 1, 1, 1, 1, 1, 1, 1, 1, 1, 1, 1, 1, 1, 1, 1, 1, 1, 1, 1, 1, 1,\n",
       "       1, 1, 1, 1, 1, 1, 1, 1, 1, 1, 1, 1, 1, 1, 1, 1, 1, 1, 1, 1, 2, 2,\n",
       "       2, 2, 2, 2, 2, 2, 2, 2, 2, 2, 2, 2, 2, 2, 2, 2, 2, 2, 2, 2, 2, 2,\n",
       "       2, 2, 2, 2, 2, 2, 2, 2, 2, 2, 2, 2, 2, 2, 2, 2, 2, 2, 2, 2, 2, 2,\n",
       "       2, 2])"
      ]
     },
     "execution_count": 3,
     "metadata": {},
     "output_type": "execute_result"
    }
   ],
   "source": [
    "wine.target"
   ]
  },
  {
   "cell_type": "code",
   "execution_count": 4,
   "metadata": {},
   "outputs": [
    {
     "data": {
      "text/html": [
       "<div>\n",
       "<style scoped>\n",
       "    .dataframe tbody tr th:only-of-type {\n",
       "        vertical-align: middle;\n",
       "    }\n",
       "\n",
       "    .dataframe tbody tr th {\n",
       "        vertical-align: top;\n",
       "    }\n",
       "\n",
       "    .dataframe thead th {\n",
       "        text-align: right;\n",
       "    }\n",
       "</style>\n",
       "<table border=\"1\" class=\"dataframe\">\n",
       "  <thead>\n",
       "    <tr style=\"text-align: right;\">\n",
       "      <th></th>\n",
       "      <th>0</th>\n",
       "      <th>1</th>\n",
       "      <th>2</th>\n",
       "      <th>3</th>\n",
       "      <th>4</th>\n",
       "      <th>5</th>\n",
       "      <th>6</th>\n",
       "      <th>7</th>\n",
       "      <th>8</th>\n",
       "      <th>9</th>\n",
       "      <th>10</th>\n",
       "      <th>11</th>\n",
       "      <th>12</th>\n",
       "      <th>0</th>\n",
       "    </tr>\n",
       "  </thead>\n",
       "  <tbody>\n",
       "    <tr>\n",
       "      <th>0</th>\n",
       "      <td>14.23</td>\n",
       "      <td>1.71</td>\n",
       "      <td>2.43</td>\n",
       "      <td>15.6</td>\n",
       "      <td>127.0</td>\n",
       "      <td>2.80</td>\n",
       "      <td>3.06</td>\n",
       "      <td>0.28</td>\n",
       "      <td>2.29</td>\n",
       "      <td>5.64</td>\n",
       "      <td>1.04</td>\n",
       "      <td>3.92</td>\n",
       "      <td>1065.0</td>\n",
       "      <td>0</td>\n",
       "    </tr>\n",
       "    <tr>\n",
       "      <th>1</th>\n",
       "      <td>13.20</td>\n",
       "      <td>1.78</td>\n",
       "      <td>2.14</td>\n",
       "      <td>11.2</td>\n",
       "      <td>100.0</td>\n",
       "      <td>2.65</td>\n",
       "      <td>2.76</td>\n",
       "      <td>0.26</td>\n",
       "      <td>1.28</td>\n",
       "      <td>4.38</td>\n",
       "      <td>1.05</td>\n",
       "      <td>3.40</td>\n",
       "      <td>1050.0</td>\n",
       "      <td>0</td>\n",
       "    </tr>\n",
       "    <tr>\n",
       "      <th>2</th>\n",
       "      <td>13.16</td>\n",
       "      <td>2.36</td>\n",
       "      <td>2.67</td>\n",
       "      <td>18.6</td>\n",
       "      <td>101.0</td>\n",
       "      <td>2.80</td>\n",
       "      <td>3.24</td>\n",
       "      <td>0.30</td>\n",
       "      <td>2.81</td>\n",
       "      <td>5.68</td>\n",
       "      <td>1.03</td>\n",
       "      <td>3.17</td>\n",
       "      <td>1185.0</td>\n",
       "      <td>0</td>\n",
       "    </tr>\n",
       "    <tr>\n",
       "      <th>3</th>\n",
       "      <td>14.37</td>\n",
       "      <td>1.95</td>\n",
       "      <td>2.50</td>\n",
       "      <td>16.8</td>\n",
       "      <td>113.0</td>\n",
       "      <td>3.85</td>\n",
       "      <td>3.49</td>\n",
       "      <td>0.24</td>\n",
       "      <td>2.18</td>\n",
       "      <td>7.80</td>\n",
       "      <td>0.86</td>\n",
       "      <td>3.45</td>\n",
       "      <td>1480.0</td>\n",
       "      <td>0</td>\n",
       "    </tr>\n",
       "    <tr>\n",
       "      <th>4</th>\n",
       "      <td>13.24</td>\n",
       "      <td>2.59</td>\n",
       "      <td>2.87</td>\n",
       "      <td>21.0</td>\n",
       "      <td>118.0</td>\n",
       "      <td>2.80</td>\n",
       "      <td>2.69</td>\n",
       "      <td>0.39</td>\n",
       "      <td>1.82</td>\n",
       "      <td>4.32</td>\n",
       "      <td>1.04</td>\n",
       "      <td>2.93</td>\n",
       "      <td>735.0</td>\n",
       "      <td>0</td>\n",
       "    </tr>\n",
       "    <tr>\n",
       "      <th>...</th>\n",
       "      <td>...</td>\n",
       "      <td>...</td>\n",
       "      <td>...</td>\n",
       "      <td>...</td>\n",
       "      <td>...</td>\n",
       "      <td>...</td>\n",
       "      <td>...</td>\n",
       "      <td>...</td>\n",
       "      <td>...</td>\n",
       "      <td>...</td>\n",
       "      <td>...</td>\n",
       "      <td>...</td>\n",
       "      <td>...</td>\n",
       "      <td>...</td>\n",
       "    </tr>\n",
       "    <tr>\n",
       "      <th>173</th>\n",
       "      <td>13.71</td>\n",
       "      <td>5.65</td>\n",
       "      <td>2.45</td>\n",
       "      <td>20.5</td>\n",
       "      <td>95.0</td>\n",
       "      <td>1.68</td>\n",
       "      <td>0.61</td>\n",
       "      <td>0.52</td>\n",
       "      <td>1.06</td>\n",
       "      <td>7.70</td>\n",
       "      <td>0.64</td>\n",
       "      <td>1.74</td>\n",
       "      <td>740.0</td>\n",
       "      <td>2</td>\n",
       "    </tr>\n",
       "    <tr>\n",
       "      <th>174</th>\n",
       "      <td>13.40</td>\n",
       "      <td>3.91</td>\n",
       "      <td>2.48</td>\n",
       "      <td>23.0</td>\n",
       "      <td>102.0</td>\n",
       "      <td>1.80</td>\n",
       "      <td>0.75</td>\n",
       "      <td>0.43</td>\n",
       "      <td>1.41</td>\n",
       "      <td>7.30</td>\n",
       "      <td>0.70</td>\n",
       "      <td>1.56</td>\n",
       "      <td>750.0</td>\n",
       "      <td>2</td>\n",
       "    </tr>\n",
       "    <tr>\n",
       "      <th>175</th>\n",
       "      <td>13.27</td>\n",
       "      <td>4.28</td>\n",
       "      <td>2.26</td>\n",
       "      <td>20.0</td>\n",
       "      <td>120.0</td>\n",
       "      <td>1.59</td>\n",
       "      <td>0.69</td>\n",
       "      <td>0.43</td>\n",
       "      <td>1.35</td>\n",
       "      <td>10.20</td>\n",
       "      <td>0.59</td>\n",
       "      <td>1.56</td>\n",
       "      <td>835.0</td>\n",
       "      <td>2</td>\n",
       "    </tr>\n",
       "    <tr>\n",
       "      <th>176</th>\n",
       "      <td>13.17</td>\n",
       "      <td>2.59</td>\n",
       "      <td>2.37</td>\n",
       "      <td>20.0</td>\n",
       "      <td>120.0</td>\n",
       "      <td>1.65</td>\n",
       "      <td>0.68</td>\n",
       "      <td>0.53</td>\n",
       "      <td>1.46</td>\n",
       "      <td>9.30</td>\n",
       "      <td>0.60</td>\n",
       "      <td>1.62</td>\n",
       "      <td>840.0</td>\n",
       "      <td>2</td>\n",
       "    </tr>\n",
       "    <tr>\n",
       "      <th>177</th>\n",
       "      <td>14.13</td>\n",
       "      <td>4.10</td>\n",
       "      <td>2.74</td>\n",
       "      <td>24.5</td>\n",
       "      <td>96.0</td>\n",
       "      <td>2.05</td>\n",
       "      <td>0.76</td>\n",
       "      <td>0.56</td>\n",
       "      <td>1.35</td>\n",
       "      <td>9.20</td>\n",
       "      <td>0.61</td>\n",
       "      <td>1.60</td>\n",
       "      <td>560.0</td>\n",
       "      <td>2</td>\n",
       "    </tr>\n",
       "  </tbody>\n",
       "</table>\n",
       "<p>178 rows × 14 columns</p>\n",
       "</div>"
      ],
      "text/plain": [
       "        0     1     2     3      4     5     6     7     8      9     10  \\\n",
       "0    14.23  1.71  2.43  15.6  127.0  2.80  3.06  0.28  2.29   5.64  1.04   \n",
       "1    13.20  1.78  2.14  11.2  100.0  2.65  2.76  0.26  1.28   4.38  1.05   \n",
       "2    13.16  2.36  2.67  18.6  101.0  2.80  3.24  0.30  2.81   5.68  1.03   \n",
       "3    14.37  1.95  2.50  16.8  113.0  3.85  3.49  0.24  2.18   7.80  0.86   \n",
       "4    13.24  2.59  2.87  21.0  118.0  2.80  2.69  0.39  1.82   4.32  1.04   \n",
       "..     ...   ...   ...   ...    ...   ...   ...   ...   ...    ...   ...   \n",
       "173  13.71  5.65  2.45  20.5   95.0  1.68  0.61  0.52  1.06   7.70  0.64   \n",
       "174  13.40  3.91  2.48  23.0  102.0  1.80  0.75  0.43  1.41   7.30  0.70   \n",
       "175  13.27  4.28  2.26  20.0  120.0  1.59  0.69  0.43  1.35  10.20  0.59   \n",
       "176  13.17  2.59  2.37  20.0  120.0  1.65  0.68  0.53  1.46   9.30  0.60   \n",
       "177  14.13  4.10  2.74  24.5   96.0  2.05  0.76  0.56  1.35   9.20  0.61   \n",
       "\n",
       "       11      12  0   \n",
       "0    3.92  1065.0   0  \n",
       "1    3.40  1050.0   0  \n",
       "2    3.17  1185.0   0  \n",
       "3    3.45  1480.0   0  \n",
       "4    2.93   735.0   0  \n",
       "..    ...     ...  ..  \n",
       "173  1.74   740.0   2  \n",
       "174  1.56   750.0   2  \n",
       "175  1.56   835.0   2  \n",
       "176  1.62   840.0   2  \n",
       "177  1.60   560.0   2  \n",
       "\n",
       "[178 rows x 14 columns]"
      ]
     },
     "execution_count": 4,
     "metadata": {},
     "output_type": "execute_result"
    }
   ],
   "source": [
    "import pandas as pd\n",
    "pd.concat([pd.DataFrame(wine.data),pd.DataFrame(wine.target)],axis=1)"
   ]
  },
  {
   "cell_type": "code",
   "execution_count": 5,
   "metadata": {},
   "outputs": [
    {
     "data": {
      "text/plain": [
       "['alcohol',\n",
       " 'malic_acid',\n",
       " 'ash',\n",
       " 'alcalinity_of_ash',\n",
       " 'magnesium',\n",
       " 'total_phenols',\n",
       " 'flavanoids',\n",
       " 'nonflavanoid_phenols',\n",
       " 'proanthocyanins',\n",
       " 'color_intensity',\n",
       " 'hue',\n",
       " 'od280/od315_of_diluted_wines',\n",
       " 'proline']"
      ]
     },
     "execution_count": 5,
     "metadata": {},
     "output_type": "execute_result"
    }
   ],
   "source": [
    "wine.feature_names"
   ]
  },
  {
   "cell_type": "code",
   "execution_count": 6,
   "metadata": {},
   "outputs": [
    {
     "data": {
      "text/plain": [
       "array(['class_0', 'class_1', 'class_2'], dtype='<U7')"
      ]
     },
     "execution_count": 6,
     "metadata": {},
     "output_type": "execute_result"
    }
   ],
   "source": [
    "wine.target_names"
   ]
  },
  {
   "cell_type": "code",
   "execution_count": 7,
   "metadata": {},
   "outputs": [
    {
     "data": {
      "text/plain": [
       "(124, 13)"
      ]
     },
     "execution_count": 7,
     "metadata": {},
     "output_type": "execute_result"
    }
   ],
   "source": [
    "xtrain,xtest,ytrain,ytest=train_test_split(wine.data,wine.target,test_size=0.3)\n",
    "\n",
    "xtrain.shape"
   ]
  },
  {
   "cell_type": "code",
   "execution_count": 8,
   "metadata": {},
   "outputs": [
    {
     "data": {
      "text/plain": [
       "0.9444444444444444"
      ]
     },
     "execution_count": 8,
     "metadata": {},
     "output_type": "execute_result"
    }
   ],
   "source": [
    "clf=tree.DecisionTreeClassifier(criterion=\"entropy\",random_state=30)\n",
    "clf=clf.fit(xtrain,ytrain)\n",
    "score=clf.score(xtest,ytest)\n",
    "score"
   ]
  },
  {
   "cell_type": "code",
   "execution_count": 9,
   "metadata": {},
   "outputs": [],
   "source": [
    "import graphviz"
   ]
  },
  {
   "cell_type": "code",
   "execution_count": 10,
   "metadata": {},
   "outputs": [
    {
     "data": {
      "image/svg+xml": [
       "<?xml version=\"1.0\" encoding=\"UTF-8\" standalone=\"no\"?>\n",
       "<!DOCTYPE svg PUBLIC \"-//W3C//DTD SVG 1.1//EN\"\n",
       " \"http://www.w3.org/Graphics/SVG/1.1/DTD/svg11.dtd\">\n",
       "<!-- Generated by graphviz version 11.0.0 (20240428.1522)\n",
       " -->\n",
       "<!-- Title: Tree Pages: 1 -->\n",
       "<svg width=\"911pt\" height=\"588pt\"\n",
       " viewBox=\"0.00 0.00 911.00 588.00\" xmlns=\"http://www.w3.org/2000/svg\" xmlns:xlink=\"http://www.w3.org/1999/xlink\">\n",
       "<g id=\"graph0\" class=\"graph\" transform=\"scale(1 1) rotate(0) translate(4 584)\">\n",
       "<title>Tree</title>\n",
       "<polygon fill=\"white\" stroke=\"none\" points=\"-4,4 -4,-584 907,-584 907,4 -4,4\"/>\n",
       "<!-- 0 -->\n",
       "<g id=\"node1\" class=\"node\">\n",
       "<title>0</title>\n",
       "<path fill=\"#ebfcf2\" stroke=\"black\" d=\"M439.38,-580C439.38,-580 326.62,-580 326.62,-580 320.62,-580 314.62,-574 314.62,-568 314.62,-568 314.62,-501.5 314.62,-501.5 314.62,-495.5 320.62,-489.5 326.62,-489.5 326.62,-489.5 439.38,-489.5 439.38,-489.5 445.38,-489.5 451.38,-495.5 451.38,-501.5 451.38,-501.5 451.38,-568 451.38,-568 451.38,-574 445.38,-580 439.38,-580\"/>\n",
       "<text text-anchor=\"middle\" x=\"383\" y=\"-562.7\" font-family=\"Helvetica,sans-Serif\" font-size=\"14.00\">flavanoids &lt;= 2.18</text>\n",
       "<text text-anchor=\"middle\" x=\"383\" y=\"-546.2\" font-family=\"Helvetica,sans-Serif\" font-size=\"14.00\">entropy = 1.541</text>\n",
       "<text text-anchor=\"middle\" x=\"383\" y=\"-529.7\" font-family=\"Helvetica,sans-Serif\" font-size=\"14.00\">samples = 124</text>\n",
       "<text text-anchor=\"middle\" x=\"383\" y=\"-513.2\" font-family=\"Helvetica,sans-Serif\" font-size=\"14.00\">value = [44, 52, 28]</text>\n",
       "<text text-anchor=\"middle\" x=\"383\" y=\"-496.7\" font-family=\"Helvetica,sans-Serif\" font-size=\"14.00\">class = 2</text>\n",
       "</g>\n",
       "<!-- 1 -->\n",
       "<g id=\"node2\" class=\"node\">\n",
       "<title>1</title>\n",
       "<path fill=\"#d7fae6\" stroke=\"black\" d=\"M359.25,-453.5C359.25,-453.5 254.75,-453.5 254.75,-453.5 248.75,-453.5 242.75,-447.5 242.75,-441.5 242.75,-441.5 242.75,-375 242.75,-375 242.75,-369 248.75,-363 254.75,-363 254.75,-363 359.25,-363 359.25,-363 365.25,-363 371.25,-369 371.25,-375 371.25,-375 371.25,-441.5 371.25,-441.5 371.25,-447.5 365.25,-453.5 359.25,-453.5\"/>\n",
       "<text text-anchor=\"middle\" x=\"307\" y=\"-436.2\" font-family=\"Helvetica,sans-Serif\" font-size=\"14.00\">hue &lt;= 0.785</text>\n",
       "<text text-anchor=\"middle\" x=\"307\" y=\"-419.7\" font-family=\"Helvetica,sans-Serif\" font-size=\"14.00\">entropy = 0.991</text>\n",
       "<text text-anchor=\"middle\" x=\"307\" y=\"-403.2\" font-family=\"Helvetica,sans-Serif\" font-size=\"14.00\">samples = 63</text>\n",
       "<text text-anchor=\"middle\" x=\"307\" y=\"-386.7\" font-family=\"Helvetica,sans-Serif\" font-size=\"14.00\">value = [0, 35, 28]</text>\n",
       "<text text-anchor=\"middle\" x=\"307\" y=\"-370.2\" font-family=\"Helvetica,sans-Serif\" font-size=\"14.00\">class = 2</text>\n",
       "</g>\n",
       "<!-- 0&#45;&gt;1 -->\n",
       "<g id=\"edge1\" class=\"edge\">\n",
       "<title>0&#45;&gt;1</title>\n",
       "<path fill=\"none\" stroke=\"black\" d=\"M355.78,-489.15C350.76,-480.93 345.46,-472.26 340.29,-463.78\"/>\n",
       "<polygon fill=\"black\" stroke=\"black\" points=\"343.27,-461.96 335.08,-455.24 337.3,-465.6 343.27,-461.96\"/>\n",
       "<text text-anchor=\"middle\" x=\"328.41\" y=\"-473.2\" font-family=\"Helvetica,sans-Serif\" font-size=\"14.00\">True</text>\n",
       "</g>\n",
       "<!-- 8 -->\n",
       "<g id=\"node9\" class=\"node\">\n",
       "<title>8</title>\n",
       "<path fill=\"#efb286\" stroke=\"black\" d=\"M559.25,-453.5C559.25,-453.5 454.75,-453.5 454.75,-453.5 448.75,-453.5 442.75,-447.5 442.75,-441.5 442.75,-441.5 442.75,-375 442.75,-375 442.75,-369 448.75,-363 454.75,-363 454.75,-363 559.25,-363 559.25,-363 565.25,-363 571.25,-369 571.25,-375 571.25,-375 571.25,-441.5 571.25,-441.5 571.25,-447.5 565.25,-453.5 559.25,-453.5\"/>\n",
       "<text text-anchor=\"middle\" x=\"507\" y=\"-436.2\" font-family=\"Helvetica,sans-Serif\" font-size=\"14.00\">proline &lt;= 724.5</text>\n",
       "<text text-anchor=\"middle\" x=\"507\" y=\"-419.7\" font-family=\"Helvetica,sans-Serif\" font-size=\"14.00\">entropy = 0.854</text>\n",
       "<text text-anchor=\"middle\" x=\"507\" y=\"-403.2\" font-family=\"Helvetica,sans-Serif\" font-size=\"14.00\">samples = 61</text>\n",
       "<text text-anchor=\"middle\" x=\"507\" y=\"-386.7\" font-family=\"Helvetica,sans-Serif\" font-size=\"14.00\">value = [44, 17, 0]</text>\n",
       "<text text-anchor=\"middle\" x=\"507\" y=\"-370.2\" font-family=\"Helvetica,sans-Serif\" font-size=\"14.00\">class = 1</text>\n",
       "</g>\n",
       "<!-- 0&#45;&gt;8 -->\n",
       "<g id=\"edge8\" class=\"edge\">\n",
       "<title>0&#45;&gt;8</title>\n",
       "<path fill=\"none\" stroke=\"black\" d=\"M427.42,-489.15C436.23,-480.3 445.56,-470.93 454.61,-461.85\"/>\n",
       "<polygon fill=\"black\" stroke=\"black\" points=\"456.83,-464.58 461.41,-455.03 451.87,-459.64 456.83,-464.58\"/>\n",
       "<text text-anchor=\"middle\" x=\"462.53\" y=\"-473.9\" font-family=\"Helvetica,sans-Serif\" font-size=\"14.00\">False</text>\n",
       "</g>\n",
       "<!-- 2 -->\n",
       "<g id=\"node3\" class=\"node\">\n",
       "<title>2</title>\n",
       "<path fill=\"#8139e5\" stroke=\"black\" d=\"M207.12,-318.75C207.12,-318.75 110.88,-318.75 110.88,-318.75 104.88,-318.75 98.88,-312.75 98.88,-306.75 98.88,-306.75 98.88,-256.75 98.88,-256.75 98.88,-250.75 104.88,-244.75 110.88,-244.75 110.88,-244.75 207.12,-244.75 207.12,-244.75 213.12,-244.75 219.12,-250.75 219.12,-256.75 219.12,-256.75 219.12,-306.75 219.12,-306.75 219.12,-312.75 213.12,-318.75 207.12,-318.75\"/>\n",
       "<text text-anchor=\"middle\" x=\"159\" y=\"-301.45\" font-family=\"Helvetica,sans-Serif\" font-size=\"14.00\">entropy = 0.0</text>\n",
       "<text text-anchor=\"middle\" x=\"159\" y=\"-284.95\" font-family=\"Helvetica,sans-Serif\" font-size=\"14.00\">samples = 25</text>\n",
       "<text text-anchor=\"middle\" x=\"159\" y=\"-268.45\" font-family=\"Helvetica,sans-Serif\" font-size=\"14.00\">value = [0, 0, 25]</text>\n",
       "<text text-anchor=\"middle\" x=\"159\" y=\"-251.95\" font-family=\"Helvetica,sans-Serif\" font-size=\"14.00\">class = 3</text>\n",
       "</g>\n",
       "<!-- 1&#45;&gt;2 -->\n",
       "<g id=\"edge2\" class=\"edge\">\n",
       "<title>1&#45;&gt;2</title>\n",
       "<path fill=\"none\" stroke=\"black\" d=\"M253.99,-362.65C239.84,-350.75 224.57,-337.91 210.5,-326.08\"/>\n",
       "<polygon fill=\"black\" stroke=\"black\" points=\"212.98,-323.59 203.08,-319.83 208.48,-328.95 212.98,-323.59\"/>\n",
       "</g>\n",
       "<!-- 3 -->\n",
       "<g id=\"node4\" class=\"node\">\n",
       "<title>3</title>\n",
       "<path fill=\"#4ae78c\" stroke=\"black\" d=\"M365.25,-327C365.25,-327 248.75,-327 248.75,-327 242.75,-327 236.75,-321 236.75,-315 236.75,-315 236.75,-248.5 236.75,-248.5 236.75,-242.5 242.75,-236.5 248.75,-236.5 248.75,-236.5 365.25,-236.5 365.25,-236.5 371.25,-236.5 377.25,-242.5 377.25,-248.5 377.25,-248.5 377.25,-315 377.25,-315 377.25,-321 371.25,-327 365.25,-327\"/>\n",
       "<text text-anchor=\"middle\" x=\"307\" y=\"-309.7\" font-family=\"Helvetica,sans-Serif\" font-size=\"14.00\">flavanoids &lt;= 0.895</text>\n",
       "<text text-anchor=\"middle\" x=\"307\" y=\"-293.2\" font-family=\"Helvetica,sans-Serif\" font-size=\"14.00\">entropy = 0.398</text>\n",
       "<text text-anchor=\"middle\" x=\"307\" y=\"-276.7\" font-family=\"Helvetica,sans-Serif\" font-size=\"14.00\">samples = 38</text>\n",
       "<text text-anchor=\"middle\" x=\"307\" y=\"-260.2\" font-family=\"Helvetica,sans-Serif\" font-size=\"14.00\">value = [0, 35, 3]</text>\n",
       "<text text-anchor=\"middle\" x=\"307\" y=\"-243.7\" font-family=\"Helvetica,sans-Serif\" font-size=\"14.00\">class = 2</text>\n",
       "</g>\n",
       "<!-- 1&#45;&gt;3 -->\n",
       "<g id=\"edge3\" class=\"edge\">\n",
       "<title>1&#45;&gt;3</title>\n",
       "<path fill=\"none\" stroke=\"black\" d=\"M307,-362.65C307,-354.97 307,-346.89 307,-338.94\"/>\n",
       "<polygon fill=\"black\" stroke=\"black\" points=\"310.5,-338.97 307,-328.97 303.5,-338.97 310.5,-338.97\"/>\n",
       "</g>\n",
       "<!-- 4 -->\n",
       "<g id=\"node5\" class=\"node\">\n",
       "<title>4</title>\n",
       "<path fill=\"#ab7bee\" stroke=\"black\" d=\"M216.38,-200.5C216.38,-200.5 25.62,-200.5 25.62,-200.5 19.62,-200.5 13.62,-194.5 13.62,-188.5 13.62,-188.5 13.62,-122 13.62,-122 13.62,-116 19.62,-110 25.62,-110 25.62,-110 216.38,-110 216.38,-110 222.38,-110 228.38,-116 228.38,-122 228.38,-122 228.38,-188.5 228.38,-188.5 228.38,-194.5 222.38,-200.5 216.38,-200.5\"/>\n",
       "<text text-anchor=\"middle\" x=\"121\" y=\"-183.2\" font-family=\"Helvetica,sans-Serif\" font-size=\"14.00\">nonflavanoid_phenols &lt;= 0.375</text>\n",
       "<text text-anchor=\"middle\" x=\"121\" y=\"-166.7\" font-family=\"Helvetica,sans-Serif\" font-size=\"14.00\">entropy = 0.811</text>\n",
       "<text text-anchor=\"middle\" x=\"121\" y=\"-150.2\" font-family=\"Helvetica,sans-Serif\" font-size=\"14.00\">samples = 4</text>\n",
       "<text text-anchor=\"middle\" x=\"121\" y=\"-133.7\" font-family=\"Helvetica,sans-Serif\" font-size=\"14.00\">value = [0, 1, 3]</text>\n",
       "<text text-anchor=\"middle\" x=\"121\" y=\"-117.2\" font-family=\"Helvetica,sans-Serif\" font-size=\"14.00\">class = 3</text>\n",
       "</g>\n",
       "<!-- 3&#45;&gt;4 -->\n",
       "<g id=\"edge4\" class=\"edge\">\n",
       "<title>3&#45;&gt;4</title>\n",
       "<path fill=\"none\" stroke=\"black\" d=\"M240.38,-236.15C226.35,-226.77 211.46,-216.8 197.11,-207.2\"/>\n",
       "<polygon fill=\"black\" stroke=\"black\" points=\"199.3,-204.45 189.04,-201.79 195.41,-210.27 199.3,-204.45\"/>\n",
       "</g>\n",
       "<!-- 7 -->\n",
       "<g id=\"node8\" class=\"node\">\n",
       "<title>7</title>\n",
       "<path fill=\"#39e581\" stroke=\"black\" d=\"M355.12,-192.25C355.12,-192.25 258.88,-192.25 258.88,-192.25 252.88,-192.25 246.88,-186.25 246.88,-180.25 246.88,-180.25 246.88,-130.25 246.88,-130.25 246.88,-124.25 252.88,-118.25 258.88,-118.25 258.88,-118.25 355.12,-118.25 355.12,-118.25 361.12,-118.25 367.12,-124.25 367.12,-130.25 367.12,-130.25 367.12,-180.25 367.12,-180.25 367.12,-186.25 361.12,-192.25 355.12,-192.25\"/>\n",
       "<text text-anchor=\"middle\" x=\"307\" y=\"-174.95\" font-family=\"Helvetica,sans-Serif\" font-size=\"14.00\">entropy = 0.0</text>\n",
       "<text text-anchor=\"middle\" x=\"307\" y=\"-158.45\" font-family=\"Helvetica,sans-Serif\" font-size=\"14.00\">samples = 34</text>\n",
       "<text text-anchor=\"middle\" x=\"307\" y=\"-141.95\" font-family=\"Helvetica,sans-Serif\" font-size=\"14.00\">value = [0, 34, 0]</text>\n",
       "<text text-anchor=\"middle\" x=\"307\" y=\"-125.45\" font-family=\"Helvetica,sans-Serif\" font-size=\"14.00\">class = 2</text>\n",
       "</g>\n",
       "<!-- 3&#45;&gt;7 -->\n",
       "<g id=\"edge7\" class=\"edge\">\n",
       "<title>3&#45;&gt;7</title>\n",
       "<path fill=\"none\" stroke=\"black\" d=\"M307,-236.15C307,-225.6 307,-214.31 307,-203.63\"/>\n",
       "<polygon fill=\"black\" stroke=\"black\" points=\"310.5,-203.87 307,-193.87 303.5,-203.87 310.5,-203.87\"/>\n",
       "</g>\n",
       "<!-- 5 -->\n",
       "<g id=\"node6\" class=\"node\">\n",
       "<title>5</title>\n",
       "<path fill=\"#39e581\" stroke=\"black\" d=\"M100,-74C100,-74 12,-74 12,-74 6,-74 0,-68 0,-62 0,-62 0,-12 0,-12 0,-6 6,0 12,0 12,0 100,0 100,0 106,0 112,-6 112,-12 112,-12 112,-62 112,-62 112,-68 106,-74 100,-74\"/>\n",
       "<text text-anchor=\"middle\" x=\"56\" y=\"-56.7\" font-family=\"Helvetica,sans-Serif\" font-size=\"14.00\">entropy = 0.0</text>\n",
       "<text text-anchor=\"middle\" x=\"56\" y=\"-40.2\" font-family=\"Helvetica,sans-Serif\" font-size=\"14.00\">samples = 1</text>\n",
       "<text text-anchor=\"middle\" x=\"56\" y=\"-23.7\" font-family=\"Helvetica,sans-Serif\" font-size=\"14.00\">value = [0, 1, 0]</text>\n",
       "<text text-anchor=\"middle\" x=\"56\" y=\"-7.2\" font-family=\"Helvetica,sans-Serif\" font-size=\"14.00\">class = 2</text>\n",
       "</g>\n",
       "<!-- 4&#45;&gt;5 -->\n",
       "<g id=\"edge5\" class=\"edge\">\n",
       "<title>4&#45;&gt;5</title>\n",
       "<path fill=\"none\" stroke=\"black\" d=\"M96.06,-109.64C91.42,-101.35 86.57,-92.68 81.91,-84.34\"/>\n",
       "<polygon fill=\"black\" stroke=\"black\" points=\"85.02,-82.73 77.09,-75.71 78.91,-86.15 85.02,-82.73\"/>\n",
       "</g>\n",
       "<!-- 6 -->\n",
       "<g id=\"node7\" class=\"node\">\n",
       "<title>6</title>\n",
       "<path fill=\"#8139e5\" stroke=\"black\" d=\"M230,-74C230,-74 142,-74 142,-74 136,-74 130,-68 130,-62 130,-62 130,-12 130,-12 130,-6 136,0 142,0 142,0 230,0 230,0 236,0 242,-6 242,-12 242,-12 242,-62 242,-62 242,-68 236,-74 230,-74\"/>\n",
       "<text text-anchor=\"middle\" x=\"186\" y=\"-56.7\" font-family=\"Helvetica,sans-Serif\" font-size=\"14.00\">entropy = 0.0</text>\n",
       "<text text-anchor=\"middle\" x=\"186\" y=\"-40.2\" font-family=\"Helvetica,sans-Serif\" font-size=\"14.00\">samples = 3</text>\n",
       "<text text-anchor=\"middle\" x=\"186\" y=\"-23.7\" font-family=\"Helvetica,sans-Serif\" font-size=\"14.00\">value = [0, 0, 3]</text>\n",
       "<text text-anchor=\"middle\" x=\"186\" y=\"-7.2\" font-family=\"Helvetica,sans-Serif\" font-size=\"14.00\">class = 3</text>\n",
       "</g>\n",
       "<!-- 4&#45;&gt;6 -->\n",
       "<g id=\"edge6\" class=\"edge\">\n",
       "<title>4&#45;&gt;6</title>\n",
       "<path fill=\"none\" stroke=\"black\" d=\"M145.94,-109.64C150.58,-101.35 155.43,-92.68 160.09,-84.34\"/>\n",
       "<polygon fill=\"black\" stroke=\"black\" points=\"163.09,-86.15 164.91,-75.71 156.98,-82.73 163.09,-86.15\"/>\n",
       "</g>\n",
       "<!-- 9 -->\n",
       "<g id=\"node10\" class=\"node\">\n",
       "<title>9</title>\n",
       "<path fill=\"#45e789\" stroke=\"black\" d=\"M560,-327C560,-327 454,-327 454,-327 448,-327 442,-321 442,-315 442,-315 442,-248.5 442,-248.5 442,-242.5 448,-236.5 454,-236.5 454,-236.5 560,-236.5 560,-236.5 566,-236.5 572,-242.5 572,-248.5 572,-248.5 572,-315 572,-315 572,-321 566,-327 560,-327\"/>\n",
       "<text text-anchor=\"middle\" x=\"507\" y=\"-309.7\" font-family=\"Helvetica,sans-Serif\" font-size=\"14.00\">alcohol &lt;= 13.175</text>\n",
       "<text text-anchor=\"middle\" x=\"507\" y=\"-293.2\" font-family=\"Helvetica,sans-Serif\" font-size=\"14.00\">entropy = 0.323</text>\n",
       "<text text-anchor=\"middle\" x=\"507\" y=\"-276.7\" font-family=\"Helvetica,sans-Serif\" font-size=\"14.00\">samples = 17</text>\n",
       "<text text-anchor=\"middle\" x=\"507\" y=\"-260.2\" font-family=\"Helvetica,sans-Serif\" font-size=\"14.00\">value = [1, 16, 0]</text>\n",
       "<text text-anchor=\"middle\" x=\"507\" y=\"-243.7\" font-family=\"Helvetica,sans-Serif\" font-size=\"14.00\">class = 2</text>\n",
       "</g>\n",
       "<!-- 8&#45;&gt;9 -->\n",
       "<g id=\"edge9\" class=\"edge\">\n",
       "<title>8&#45;&gt;9</title>\n",
       "<path fill=\"none\" stroke=\"black\" d=\"M507,-362.65C507,-354.97 507,-346.89 507,-338.94\"/>\n",
       "<polygon fill=\"black\" stroke=\"black\" points=\"510.5,-338.97 507,-328.97 503.5,-338.97 510.5,-338.97\"/>\n",
       "</g>\n",
       "<!-- 12 -->\n",
       "<g id=\"node13\" class=\"node\">\n",
       "<title>12</title>\n",
       "<path fill=\"#e6843e\" stroke=\"black\" d=\"M776.12,-327C776.12,-327 649.88,-327 649.88,-327 643.88,-327 637.88,-321 637.88,-315 637.88,-315 637.88,-248.5 637.88,-248.5 637.88,-242.5 643.88,-236.5 649.88,-236.5 649.88,-236.5 776.12,-236.5 776.12,-236.5 782.12,-236.5 788.12,-242.5 788.12,-248.5 788.12,-248.5 788.12,-315 788.12,-315 788.12,-321 782.12,-327 776.12,-327\"/>\n",
       "<text text-anchor=\"middle\" x=\"713\" y=\"-309.7\" font-family=\"Helvetica,sans-Serif\" font-size=\"14.00\">magnesium &lt;= 133.5</text>\n",
       "<text text-anchor=\"middle\" x=\"713\" y=\"-293.2\" font-family=\"Helvetica,sans-Serif\" font-size=\"14.00\">entropy = 0.156</text>\n",
       "<text text-anchor=\"middle\" x=\"713\" y=\"-276.7\" font-family=\"Helvetica,sans-Serif\" font-size=\"14.00\">samples = 44</text>\n",
       "<text text-anchor=\"middle\" x=\"713\" y=\"-260.2\" font-family=\"Helvetica,sans-Serif\" font-size=\"14.00\">value = [43, 1, 0]</text>\n",
       "<text text-anchor=\"middle\" x=\"713\" y=\"-243.7\" font-family=\"Helvetica,sans-Serif\" font-size=\"14.00\">class = 1</text>\n",
       "</g>\n",
       "<!-- 8&#45;&gt;12 -->\n",
       "<g id=\"edge12\" class=\"edge\">\n",
       "<title>8&#45;&gt;12</title>\n",
       "<path fill=\"none\" stroke=\"black\" d=\"M571.61,-368.2C589.99,-357.1 610.26,-344.84 629.58,-333.17\"/>\n",
       "<polygon fill=\"black\" stroke=\"black\" points=\"631.23,-336.26 637.98,-328.09 627.61,-330.27 631.23,-336.26\"/>\n",
       "</g>\n",
       "<!-- 10 -->\n",
       "<g id=\"node11\" class=\"node\">\n",
       "<title>10</title>\n",
       "<path fill=\"#39e581\" stroke=\"black\" d=\"M493.12,-192.25C493.12,-192.25 396.88,-192.25 396.88,-192.25 390.88,-192.25 384.88,-186.25 384.88,-180.25 384.88,-180.25 384.88,-130.25 384.88,-130.25 384.88,-124.25 390.88,-118.25 396.88,-118.25 396.88,-118.25 493.12,-118.25 493.12,-118.25 499.12,-118.25 505.12,-124.25 505.12,-130.25 505.12,-130.25 505.12,-180.25 505.12,-180.25 505.12,-186.25 499.12,-192.25 493.12,-192.25\"/>\n",
       "<text text-anchor=\"middle\" x=\"445\" y=\"-174.95\" font-family=\"Helvetica,sans-Serif\" font-size=\"14.00\">entropy = 0.0</text>\n",
       "<text text-anchor=\"middle\" x=\"445\" y=\"-158.45\" font-family=\"Helvetica,sans-Serif\" font-size=\"14.00\">samples = 16</text>\n",
       "<text text-anchor=\"middle\" x=\"445\" y=\"-141.95\" font-family=\"Helvetica,sans-Serif\" font-size=\"14.00\">value = [0, 16, 0]</text>\n",
       "<text text-anchor=\"middle\" x=\"445\" y=\"-125.45\" font-family=\"Helvetica,sans-Serif\" font-size=\"14.00\">class = 2</text>\n",
       "</g>\n",
       "<!-- 9&#45;&gt;10 -->\n",
       "<g id=\"edge10\" class=\"edge\">\n",
       "<title>9&#45;&gt;10</title>\n",
       "<path fill=\"none\" stroke=\"black\" d=\"M484.79,-236.15C479.37,-225.26 473.55,-213.58 468.09,-202.61\"/>\n",
       "<polygon fill=\"black\" stroke=\"black\" points=\"471.25,-201.1 463.66,-193.71 464.98,-204.22 471.25,-201.1\"/>\n",
       "</g>\n",
       "<!-- 11 -->\n",
       "<g id=\"node12\" class=\"node\">\n",
       "<title>11</title>\n",
       "<path fill=\"#e58139\" stroke=\"black\" d=\"M623,-192.25C623,-192.25 535,-192.25 535,-192.25 529,-192.25 523,-186.25 523,-180.25 523,-180.25 523,-130.25 523,-130.25 523,-124.25 529,-118.25 535,-118.25 535,-118.25 623,-118.25 623,-118.25 629,-118.25 635,-124.25 635,-130.25 635,-130.25 635,-180.25 635,-180.25 635,-186.25 629,-192.25 623,-192.25\"/>\n",
       "<text text-anchor=\"middle\" x=\"579\" y=\"-174.95\" font-family=\"Helvetica,sans-Serif\" font-size=\"14.00\">entropy = 0.0</text>\n",
       "<text text-anchor=\"middle\" x=\"579\" y=\"-158.45\" font-family=\"Helvetica,sans-Serif\" font-size=\"14.00\">samples = 1</text>\n",
       "<text text-anchor=\"middle\" x=\"579\" y=\"-141.95\" font-family=\"Helvetica,sans-Serif\" font-size=\"14.00\">value = [1, 0, 0]</text>\n",
       "<text text-anchor=\"middle\" x=\"579\" y=\"-125.45\" font-family=\"Helvetica,sans-Serif\" font-size=\"14.00\">class = 1</text>\n",
       "</g>\n",
       "<!-- 9&#45;&gt;11 -->\n",
       "<g id=\"edge11\" class=\"edge\">\n",
       "<title>9&#45;&gt;11</title>\n",
       "<path fill=\"none\" stroke=\"black\" d=\"M532.79,-236.15C539.15,-225.15 545.98,-213.34 552.38,-202.27\"/>\n",
       "<polygon fill=\"black\" stroke=\"black\" points=\"555.39,-204.07 557.36,-193.67 549.33,-200.57 555.39,-204.07\"/>\n",
       "</g>\n",
       "<!-- 13 -->\n",
       "<g id=\"node14\" class=\"node\">\n",
       "<title>13</title>\n",
       "<path fill=\"#e58139\" stroke=\"black\" d=\"M761.12,-192.25C761.12,-192.25 664.88,-192.25 664.88,-192.25 658.88,-192.25 652.88,-186.25 652.88,-180.25 652.88,-180.25 652.88,-130.25 652.88,-130.25 652.88,-124.25 658.88,-118.25 664.88,-118.25 664.88,-118.25 761.12,-118.25 761.12,-118.25 767.12,-118.25 773.12,-124.25 773.12,-130.25 773.12,-130.25 773.12,-180.25 773.12,-180.25 773.12,-186.25 767.12,-192.25 761.12,-192.25\"/>\n",
       "<text text-anchor=\"middle\" x=\"713\" y=\"-174.95\" font-family=\"Helvetica,sans-Serif\" font-size=\"14.00\">entropy = 0.0</text>\n",
       "<text text-anchor=\"middle\" x=\"713\" y=\"-158.45\" font-family=\"Helvetica,sans-Serif\" font-size=\"14.00\">samples = 43</text>\n",
       "<text text-anchor=\"middle\" x=\"713\" y=\"-141.95\" font-family=\"Helvetica,sans-Serif\" font-size=\"14.00\">value = [43, 0, 0]</text>\n",
       "<text text-anchor=\"middle\" x=\"713\" y=\"-125.45\" font-family=\"Helvetica,sans-Serif\" font-size=\"14.00\">class = 1</text>\n",
       "</g>\n",
       "<!-- 12&#45;&gt;13 -->\n",
       "<g id=\"edge13\" class=\"edge\">\n",
       "<title>12&#45;&gt;13</title>\n",
       "<path fill=\"none\" stroke=\"black\" d=\"M713,-236.15C713,-225.6 713,-214.31 713,-203.63\"/>\n",
       "<polygon fill=\"black\" stroke=\"black\" points=\"716.5,-203.87 713,-193.87 709.5,-203.87 716.5,-203.87\"/>\n",
       "</g>\n",
       "<!-- 14 -->\n",
       "<g id=\"node15\" class=\"node\">\n",
       "<title>14</title>\n",
       "<path fill=\"#39e581\" stroke=\"black\" d=\"M891,-192.25C891,-192.25 803,-192.25 803,-192.25 797,-192.25 791,-186.25 791,-180.25 791,-180.25 791,-130.25 791,-130.25 791,-124.25 797,-118.25 803,-118.25 803,-118.25 891,-118.25 891,-118.25 897,-118.25 903,-124.25 903,-130.25 903,-130.25 903,-180.25 903,-180.25 903,-186.25 897,-192.25 891,-192.25\"/>\n",
       "<text text-anchor=\"middle\" x=\"847\" y=\"-174.95\" font-family=\"Helvetica,sans-Serif\" font-size=\"14.00\">entropy = 0.0</text>\n",
       "<text text-anchor=\"middle\" x=\"847\" y=\"-158.45\" font-family=\"Helvetica,sans-Serif\" font-size=\"14.00\">samples = 1</text>\n",
       "<text text-anchor=\"middle\" x=\"847\" y=\"-141.95\" font-family=\"Helvetica,sans-Serif\" font-size=\"14.00\">value = [0, 1, 0]</text>\n",
       "<text text-anchor=\"middle\" x=\"847\" y=\"-125.45\" font-family=\"Helvetica,sans-Serif\" font-size=\"14.00\">class = 2</text>\n",
       "</g>\n",
       "<!-- 12&#45;&gt;14 -->\n",
       "<g id=\"edge14\" class=\"edge\">\n",
       "<title>12&#45;&gt;14</title>\n",
       "<path fill=\"none\" stroke=\"black\" d=\"M761,-236.15C773.69,-224.36 787.37,-211.65 800.01,-199.91\"/>\n",
       "<polygon fill=\"black\" stroke=\"black\" points=\"802.09,-202.76 807.03,-193.39 797.32,-197.63 802.09,-202.76\"/>\n",
       "</g>\n",
       "</g>\n",
       "</svg>\n"
      ],
      "text/plain": [
       "<graphviz.sources.Source at 0x19be9456dd0>"
      ]
     },
     "execution_count": 10,
     "metadata": {},
     "output_type": "execute_result"
    }
   ],
   "source": [
    "dot_data=tree.export_graphviz(clf\n",
    "                              ,out_file=None\n",
    "                              ,feature_names=wine.feature_names\n",
    "                              ,class_names=[\"1\",\"2\",\"3\"]\n",
    "                              ,rounded=True\n",
    "                              ,filled=True)\n",
    "graph=graphviz.Source(dot_data)\n",
    "graph"
   ]
  },
  {
   "cell_type": "code",
   "execution_count": 11,
   "metadata": {},
   "outputs": [
    {
     "data": {
      "text/plain": [
       "array([0.02871555, 0.        , 0.        , 0.        , 0.03603585,\n",
       "       0.        , 0.46296617, 0.01698331, 0.        , 0.        ,\n",
       "       0.24752561, 0.        , 0.2077735 ])"
      ]
     },
     "execution_count": 11,
     "metadata": {},
     "output_type": "execute_result"
    }
   ],
   "source": [
    "clf.feature_importances_"
   ]
  },
  {
   "cell_type": "markdown",
   "metadata": {},
   "source": [
    "**带*表示解包，取出每一个元素**"
   ]
  },
  {
   "cell_type": "code",
   "execution_count": 12,
   "metadata": {},
   "outputs": [
    {
     "data": {
      "text/plain": [
       "[('alcohol', 0.028715550681728513),\n",
       " ('malic_acid', 0.0),\n",
       " ('ash', 0.0),\n",
       " ('alcalinity_of_ash', 0.0),\n",
       " ('magnesium', 0.036035854928652404),\n",
       " ('total_phenols', 0.0),\n",
       " ('flavanoids', 0.46296617277902696),\n",
       " ('nonflavanoid_phenols', 0.016983311295845824),\n",
       " ('proanthocyanins', 0.0),\n",
       " ('color_intensity', 0.0),\n",
       " ('hue', 0.24752561118964908),\n",
       " ('od280/od315_of_diluted_wines', 0.0),\n",
       " ('proline', 0.2077734991250972)]"
      ]
     },
     "execution_count": 12,
     "metadata": {},
     "output_type": "execute_result"
    }
   ],
   "source": [
    "[*zip(wine.feature_names,clf.feature_importances_)]"
   ]
  },
  {
   "cell_type": "code",
   "execution_count": 13,
   "metadata": {},
   "outputs": [
    {
     "data": {
      "image/png": "[encoded data removed]",
      "text/plain": [
       "<Figure size 640x480 with 1 Axes>"
      ]
     },
     "metadata": {},
     "output_type": "display_data"
    },
    {
     "data": {
      "text/plain": [
       "3"
      ]
     },
     "execution_count": 13,
     "metadata": {},
     "output_type": "execute_result"
    }
   ],
   "source": [
    "import matplotlib.pyplot as plt\n",
    "test=[]\n",
    "for i in range(15):\n",
    "    clf=tree.DecisionTreeClassifier(criterion=\"entropy\"\n",
    "                                    ,random_state=30\n",
    "                                    ,splitter=\"random\"\n",
    "                                    ,max_depth=i+1\n",
    "                                    #,min_samples_leaf=1\n",
    "                                    #,min_samples_split=i+2\n",
    "                                    )\n",
    "    clf=clf.fit(xtrain,ytrain)\n",
    "    score=clf.score(xtest,ytest)\n",
    "    test.append(score)\n",
    "plt.plot(range(1,16),test,c=\"r\",label=\"min_samples_split\")\n",
    "plt.legend()\n",
    "plt.show()\n",
    "test.index(max(test)) + 1"
   ]
  },
  {
   "cell_type": "code",
   "execution_count": 14,
   "metadata": {},
   "outputs": [
    {
     "data": {
      "text/plain": [
       "array([28,  6,  8,  4,  4, 30, 15,  4, 30,  4, 30, 13, 13, 13,  9,  4, 30,\n",
       "        4,  4, 30,  4, 30, 10, 13, 15, 30,  4, 30, 30, 30, 10, 22,  4, 30,\n",
       "        4, 22,  8, 30, 22, 15, 22,  6, 22, 22, 30, 22,  8, 30, 13,  9, 22,\n",
       "        6, 26, 30], dtype=int64)"
      ]
     },
     "execution_count": 14,
     "metadata": {},
     "output_type": "execute_result"
    }
   ],
   "source": [
    "clf.apply(xtest)"
   ]
  },
  {
   "cell_type": "code",
   "execution_count": 15,
   "metadata": {},
   "outputs": [
    {
     "data": {
      "text/plain": [
       "array([0, 2, 2, 2, 2, 0, 1, 2, 0, 2, 0, 1, 1, 1, 1, 2, 0, 2, 2, 0, 2, 0,\n",
       "       1, 1, 1, 0, 2, 0, 0, 0, 1, 1, 2, 0, 2, 1, 2, 0, 1, 1, 1, 2, 1, 1,\n",
       "       0, 1, 2, 0, 1, 1, 1, 2, 1, 0])"
      ]
     },
     "execution_count": 15,
     "metadata": {},
     "output_type": "execute_result"
    }
   ],
   "source": [
    "clf.predict(xtest)"
   ]
  },
  {
   "cell_type": "code",
   "execution_count": null,
   "metadata": {},
   "outputs": [],
   "source": []
  }
 ],
 "metadata": {
  "kernelspec": {
   "display_name": "Python 3",
   "language": "python",
   "name": "python3"
  },
  "language_info": {
   "codemirror_mode": {
    "name": "ipython",
    "version": 3
   },
   "file_extension": ".py",
   "mimetype": "text/x-python",
   "name": "python",
   "nbconvert_exporter": "python",
   "pygments_lexer": "ipython3",
   "version": "3.11.7"
  }
 },
 "nbformat": 4,
 "nbformat_minor": 2
}
